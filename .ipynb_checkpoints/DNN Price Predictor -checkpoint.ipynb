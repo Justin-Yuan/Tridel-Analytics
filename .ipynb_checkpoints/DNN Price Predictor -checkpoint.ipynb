{
 "cells": [
  {
   "cell_type": "code",
   "execution_count": 4,
   "metadata": {
    "collapsed": false
   },
   "outputs": [],
   "source": [
    "import numpy as np\n",
    "import pandas as pd \n",
    "import tensorflow as tf \n",
    "\n",
    "from keras.models import Sequential\n",
    "from keras.layers import Dense, Flatten, Input, Dropout  "
   ]
  },
  {
   "cell_type": "markdown",
   "metadata": {},
   "source": [
    "## Data "
   ]
  },
  {
   "cell_type": "code",
   "execution_count": 20,
   "metadata": {
    "collapsed": true
   },
   "outputs": [],
   "source": [
    "import xlrd\n",
    "import csv\n",
    "\n",
    "def csv_from_excel(path, sheet, csv_name):\n",
    "    wb = xlrd.open_workbook(path)\n",
    "    sh = wb.sheet_by_name(sheet)\n",
    "    csv_file = open(csv_name, 'w')\n",
    "    wr = csv.writer(csv_file, quoting=csv.QUOTE_ALL)\n",
    "\n",
    "    for rownum in range(sh.nrows):\n",
    "        if sh.row_values(rownum)[0] == '':\n",
    "            return\n",
    "        else:\n",
    "            wr.writerow(sh.row_values(rownum))\n",
    "    csv_file.close()"
   ]
  },
  {
   "cell_type": "code",
   "execution_count": 41,
   "metadata": {
    "collapsed": true
   },
   "outputs": [],
   "source": [
    "csv_from_excel(\"./mergeddata.xlsx\", \"Sheet1\", \"mergeddata_july9.csv\")"
   ]
  },
  {
   "cell_type": "code",
   "execution_count": 46,
   "metadata": {
    "collapsed": false
   },
   "outputs": [
    {
     "name": "stdout",
     "output_type": "stream",
     "text": [
      "3541\n"
     ]
    },
    {
     "data": {
      "text/html": [
       "<div>\n",
       "<style>\n",
       "    .dataframe thead tr:only-child th {\n",
       "        text-align: right;\n",
       "    }\n",
       "\n",
       "    .dataframe thead th {\n",
       "        text-align: left;\n",
       "    }\n",
       "\n",
       "    .dataframe tbody tr th {\n",
       "        vertical-align: top;\n",
       "    }\n",
       "</style>\n",
       "<table border=\"1\" class=\"dataframe\">\n",
       "  <thead>\n",
       "    <tr style=\"text-align: right;\">\n",
       "      <th></th>\n",
       "      <th>Price</th>\n",
       "      <th>Bedrooms</th>\n",
       "      <th>Bathrooms</th>\n",
       "      <th>Size</th>\n",
       "      <th>Crime</th>\n",
       "      <th>Transit</th>\n",
       "      <th>Shopping</th>\n",
       "      <th>Health</th>\n",
       "      <th>Entertainment</th>\n",
       "      <th>Community</th>\n",
       "      <th>Diversity</th>\n",
       "      <th>Schools</th>\n",
       "      <th>Employment</th>\n",
       "    </tr>\n",
       "  </thead>\n",
       "  <tbody>\n",
       "    <tr>\n",
       "      <th>0</th>\n",
       "      <td>3075000.0</td>\n",
       "      <td>2.0</td>\n",
       "      <td>3.0</td>\n",
       "      <td>2249.0</td>\n",
       "      <td>6.3</td>\n",
       "      <td>90.1</td>\n",
       "      <td>90.1</td>\n",
       "      <td>45.8</td>\n",
       "      <td>41.5</td>\n",
       "      <td>53.5</td>\n",
       "      <td>69.0</td>\n",
       "      <td>83.1</td>\n",
       "      <td>93.0</td>\n",
       "    </tr>\n",
       "    <tr>\n",
       "      <th>1</th>\n",
       "      <td>2999990.0</td>\n",
       "      <td>3.0</td>\n",
       "      <td>3.0</td>\n",
       "      <td>2749.0</td>\n",
       "      <td>0.7</td>\n",
       "      <td>45.1</td>\n",
       "      <td>79.6</td>\n",
       "      <td>21.1</td>\n",
       "      <td>73.2</td>\n",
       "      <td>98.6</td>\n",
       "      <td>76.8</td>\n",
       "      <td>51.4</td>\n",
       "      <td>98.6</td>\n",
       "    </tr>\n",
       "    <tr>\n",
       "      <th>2</th>\n",
       "      <td>2999900.0</td>\n",
       "      <td>4.0</td>\n",
       "      <td>4.0</td>\n",
       "      <td>3249.0</td>\n",
       "      <td>4.2</td>\n",
       "      <td>96.5</td>\n",
       "      <td>97.2</td>\n",
       "      <td>14.1</td>\n",
       "      <td>79.6</td>\n",
       "      <td>58.5</td>\n",
       "      <td>31.7</td>\n",
       "      <td>78.9</td>\n",
       "      <td>84.5</td>\n",
       "    </tr>\n",
       "    <tr>\n",
       "      <th>3</th>\n",
       "      <td>2875000.0</td>\n",
       "      <td>2.0</td>\n",
       "      <td>3.0</td>\n",
       "      <td>2249.0</td>\n",
       "      <td>6.3</td>\n",
       "      <td>90.1</td>\n",
       "      <td>90.1</td>\n",
       "      <td>45.8</td>\n",
       "      <td>41.5</td>\n",
       "      <td>53.5</td>\n",
       "      <td>69.0</td>\n",
       "      <td>83.1</td>\n",
       "      <td>93.0</td>\n",
       "    </tr>\n",
       "    <tr>\n",
       "      <th>4</th>\n",
       "      <td>2595000.0</td>\n",
       "      <td>2.0</td>\n",
       "      <td>2.0</td>\n",
       "      <td>1999.0</td>\n",
       "      <td>6.3</td>\n",
       "      <td>90.1</td>\n",
       "      <td>90.1</td>\n",
       "      <td>45.8</td>\n",
       "      <td>41.5</td>\n",
       "      <td>53.5</td>\n",
       "      <td>69.0</td>\n",
       "      <td>83.1</td>\n",
       "      <td>93.0</td>\n",
       "    </tr>\n",
       "  </tbody>\n",
       "</table>\n",
       "</div>"
      ],
      "text/plain": [
       "       Price  Bedrooms  Bathrooms    Size  Crime  Transit  Shopping  Health  \\\n",
       "0  3075000.0       2.0        3.0  2249.0    6.3     90.1      90.1    45.8   \n",
       "1  2999990.0       3.0        3.0  2749.0    0.7     45.1      79.6    21.1   \n",
       "2  2999900.0       4.0        4.0  3249.0    4.2     96.5      97.2    14.1   \n",
       "3  2875000.0       2.0        3.0  2249.0    6.3     90.1      90.1    45.8   \n",
       "4  2595000.0       2.0        2.0  1999.0    6.3     90.1      90.1    45.8   \n",
       "\n",
       "   Entertainment  Community  Diversity  Schools  Employment  \n",
       "0           41.5       53.5       69.0     83.1        93.0  \n",
       "1           73.2       98.6       76.8     51.4        98.6  \n",
       "2           79.6       58.5       31.7     78.9        84.5  \n",
       "3           41.5       53.5       69.0     83.1        93.0  \n",
       "4           41.5       53.5       69.0     83.1        93.0  "
      ]
     },
     "execution_count": 46,
     "metadata": {},
     "output_type": "execute_result"
    }
   ],
   "source": [
    "data = pd.read_csv(\"mergeddata_july9.csv\")\n",
    "print(len(data))\n",
    "data[:5, :]"
   ]
  },
  {
   "cell_type": "code",
   "execution_count": 32,
   "metadata": {
    "collapsed": true
   },
   "outputs": [],
   "source": [
    "def read_data_as_matrix(path):\n",
    "    \"\"\" return raw features and labels data as np.arrays  \n",
    "    \"\"\"\n",
    "    data = pd.read_csv(path)\n",
    "    mat = data.as_matrix()\n",
    "    return mat[:, :13]\n",
    "\n",
    "def split_data(data, validation, test, shuffle=True):\n",
    "    \"\"\" return the training, validatoin and test set\n",
    "    \"\"\"\n",
    "    if shuffle:\n",
    "        indices = np.arange(data.shape[0])\n",
    "        np.random.shuffle(indices)\n",
    "        temp = data[indices]\n",
    "    else:\n",
    "        temp = data\n",
    "        \n",
    "    num_validation = int(validation * data.shape[0])\n",
    "    num_test = int(test * data.shape[0])\n",
    "    num_train = data.shape[0] - num_validation - num_test\n",
    "        \n",
    "    test_data = data[-num_test:]\n",
    "    validation_data = data[-num_test-num_validation:-num_test]\n",
    "    train_data = data[:-num_validation-num_test]\n",
    "    return train_data, validation_data, test_data\n",
    "        \n",
    "def split_features_labels(data, label_index):\n",
    "    labels = data[:, label_index]\n",
    "    features = np.concatenate((data[:, :label_index], data[:, label_index+1:]), axis=1)\n",
    "    return features, labels "
   ]
  },
  {
   "cell_type": "code",
   "execution_count": 25,
   "metadata": {
    "collapsed": false
   },
   "outputs": [],
   "source": [
    "mat = read_data_as_matrix('mergeddata_july9.csv')"
   ]
  },
  {
   "cell_type": "code",
   "execution_count": 30,
   "metadata": {
    "collapsed": false
   },
   "outputs": [],
   "source": [
    "(training, validation, test) = split_data(mat, 0.1, 0.1)"
   ]
  },
  {
   "cell_type": "code",
   "execution_count": 56,
   "metadata": {
    "collapsed": false
   },
   "outputs": [],
   "source": [
    "x_train, y_train = split_features_labels(training, 0)\n",
    "x_val, y_val = split_features_labels(validation, 0)\n",
    "x_test, y_test = split_features_labels(test, 0)"
   ]
  },
  {
   "cell_type": "code",
   "execution_count": 34,
   "metadata": {
    "collapsed": false
   },
   "outputs": [
    {
     "name": "stdout",
     "output_type": "stream",
     "text": [
      "(2833, 12) (2833,)\n",
      "(354, 12) (354,)\n",
      "(354, 12) (354,)\n"
     ]
    }
   ],
   "source": [
    "print(x_train.shape, y_train.shape)\n",
    "print(x_val.shape, y_val.shape)\n",
    "print(x_test.shape, y_test.shape)"
   ]
  },
  {
   "cell_type": "code",
   "execution_count": 57,
   "metadata": {
    "collapsed": true
   },
   "outputs": [],
   "source": [
    "x_train = x_train\n",
    "x_val = x_val\n",
    "x_test = x_test"
   ]
  },
  {
   "cell_type": "code",
   "execution_count": 54,
   "metadata": {
    "collapsed": false
   },
   "outputs": [],
   "source": [
    "# y_train = y_train.tolist()\n",
    "# y_val = y_val.tolist()\n",
    "# y_test = y_test.tolist()"
   ]
  },
  {
   "cell_type": "markdown",
   "metadata": {},
   "source": [
    "## Model "
   ]
  },
  {
   "cell_type": "code",
   "execution_count": 12,
   "metadata": {
    "collapsed": true
   },
   "outputs": [],
   "source": [
    "input_dim = 23\n",
    "batch_size = 64\n",
    "epochs = 60\n",
    "dropout_rate = 0.5 "
   ]
  },
  {
   "cell_type": "code",
   "execution_count": 2,
   "metadata": {
    "collapsed": true
   },
   "outputs": [],
   "source": [
    "model = Sequential()"
   ]
  },
  {
   "cell_type": "code",
   "execution_count": 11,
   "metadata": {
    "collapsed": false
   },
   "outputs": [],
   "source": [
    "model.add(Dense(32, activation='elu', input_dim=input_dim))\n",
    "model.add(Dropout(dropout_rate))\n",
    "model.add(Dense(8, activation='elu'))\n",
    "model.add(Dropout(dropout_rate))\n",
    "model.add(Dense(1))"
   ]
  },
  {
   "cell_type": "code",
   "execution_count": 47,
   "metadata": {
    "collapsed": false
   },
   "outputs": [],
   "source": [
    "model.compile(optimizer='adam', loss='mean_squared_error', metrics=['accuracy'])"
   ]
  },
  {
   "cell_type": "code",
   "execution_count": 58,
   "metadata": {
    "collapsed": false
   },
   "outputs": [
    {
     "ename": "TypeError",
     "evalue": "unhashable type: 'numpy.ndarray'",
     "output_type": "error",
     "traceback": [
      "\u001b[0;31m---------------------------------------------------------------------------\u001b[0m",
      "\u001b[0;31mTypeError\u001b[0m                                 Traceback (most recent call last)",
      "\u001b[0;32m<ipython-input-58-2ae19a641ba6>\u001b[0m in \u001b[0;36m<module>\u001b[0;34m()\u001b[0m\n\u001b[0;32m----> 1\u001b[0;31m \u001b[0mmodel\u001b[0m\u001b[0;34m.\u001b[0m\u001b[0mfit\u001b[0m\u001b[0;34m(\u001b[0m\u001b[0mx_train\u001b[0m\u001b[0;34m,\u001b[0m \u001b[0my_train\u001b[0m\u001b[0;34m,\u001b[0m \u001b[0mbatch_size\u001b[0m\u001b[0;34m=\u001b[0m\u001b[0mbatch_size\u001b[0m\u001b[0;34m,\u001b[0m \u001b[0mepochs\u001b[0m\u001b[0;34m=\u001b[0m\u001b[0mepochs\u001b[0m\u001b[0;34m,\u001b[0m \u001b[0mvalidation_data\u001b[0m\u001b[0;34m=\u001b[0m\u001b[0;34m{\u001b[0m\u001b[0mx_val\u001b[0m\u001b[0;34m,\u001b[0m \u001b[0my_val\u001b[0m\u001b[0;34m}\u001b[0m\u001b[0;34m)\u001b[0m\u001b[0;34m\u001b[0m\u001b[0m\n\u001b[0m",
      "\u001b[0;31mTypeError\u001b[0m: unhashable type: 'numpy.ndarray'"
     ]
    }
   ],
   "source": [
    "model.fit(x_train, y_train, batch_size=batch_size, epochs=epochs, validation_data={x_val, y_val})"
   ]
  },
  {
   "cell_type": "code",
   "execution_count": null,
   "metadata": {
    "collapsed": true
   },
   "outputs": [],
   "source": []
  },
  {
   "cell_type": "markdown",
   "metadata": {},
   "source": [
    "## Evaluation"
   ]
  },
  {
   "cell_type": "code",
   "execution_count": null,
   "metadata": {
    "collapsed": true
   },
   "outputs": [],
   "source": [
    "model.predict()"
   ]
  }
 ],
 "metadata": {
  "kernelspec": {
   "display_name": "Python [default]",
   "language": "python",
   "name": "python3"
  },
  "language_info": {
   "codemirror_mode": {
    "name": "ipython",
    "version": 3
   },
   "file_extension": ".py",
   "mimetype": "text/x-python",
   "name": "python",
   "nbconvert_exporter": "python",
   "pygments_lexer": "ipython3",
   "version": "3.5.2"
  }
 },
 "nbformat": 4,
 "nbformat_minor": 2
}
