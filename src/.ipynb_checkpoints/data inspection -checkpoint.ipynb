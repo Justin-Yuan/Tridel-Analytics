{
 "cells": [
  {
   "cell_type": "code",
   "execution_count": 1,
   "metadata": {
    "collapsed": true
   },
   "outputs": [],
   "source": [
    "import numpy as np\n",
    "import pandas as pd "
   ]
  },
  {
   "cell_type": "code",
   "execution_count": 11,
   "metadata": {
    "collapsed": true
   },
   "outputs": [],
   "source": [
    "def get_data(path):\n",
    "    df = pd.read_csv(path)\n",
    "    matrix_df = df.loc[:, 'Bedrooms':'housing price'].as_matrix()\n",
    "    mat = matrix_df[:,:]\n",
    "    where_are_NaNs = np.isnan(mat)\n",
    "    mat[where_are_NaNs] = 0\n",
    "    maximums = np.amax(mat, axis=0)\n",
    "    print(maximums)\n",
    "    mat = mat/maximums\n",
    "    return mat"
   ]
  },
  {
   "cell_type": "code",
   "execution_count": 3,
   "metadata": {
    "collapsed": true
   },
   "outputs": [],
   "source": [
    "df = pd.read_csv('mergeddata_july.csv')"
   ]
  },
  {
   "cell_type": "code",
   "execution_count": 6,
   "metadata": {
    "collapsed": false
   },
   "outputs": [
    {
     "name": "stdout",
     "output_type": "stream",
     "text": [
      "   Bedrooms  Bathrooms    Size  neignbourhood  housing price\n",
      "0       2.0        2.0   950.0       0.742926       828000.0\n",
      "1       3.0        3.0  1299.0       0.714395      1098000.0\n",
      "2       3.0        3.0  1200.0       0.954467      1090000.0\n",
      "3       1.0        2.0   680.0       0.742926       595000.0\n",
      "4       2.0        2.0   890.0       0.742926       791000.0\n",
      "5       3.0        2.0  1100.0       0.714395      1048000.0\n",
      "6       3.0        2.0  1299.0       0.714395      1108000.0\n",
      "7       3.0        3.0  1400.0       0.954467      1128000.0\n",
      "8       2.0        2.0   810.0       0.954467       713000.0\n",
      "9       2.0        2.0   800.0       0.954467       750000.0\n"
     ]
    }
   ],
   "source": [
    "data = df.loc[:, 'Bedrooms':'housing price']\n",
    "print(data[:10])"
   ]
  },
  {
   "cell_type": "code",
   "execution_count": 12,
   "metadata": {
    "collapsed": false
   },
   "outputs": [
    {
     "name": "stdout",
     "output_type": "stream",
     "text": [
      "[  4.00000000e+00   4.00000000e+00   1.59900000e+03   9.57845750e-01\n",
      "   1.29400000e+06]\n"
     ]
    },
    {
     "data": {
      "text/plain": [
       "(1048575, 5)"
      ]
     },
     "execution_count": 12,
     "metadata": {},
     "output_type": "execute_result"
    }
   ],
   "source": [
    "mat = get_data('mergeddata_july.csv')\n",
    "mat.shape"
   ]
  },
  {
   "cell_type": "code",
   "execution_count": 29,
   "metadata": {
    "collapsed": false
   },
   "outputs": [
    {
     "name": "stdout",
     "output_type": "stream",
     "text": [
      "[ 0.25        0.25        0.28142589  0.47647396  0.31839258]\n"
     ]
    }
   ],
   "source": [
    "print(mat[3538])"
   ]
  }
 ],
 "metadata": {
  "kernelspec": {
   "display_name": "Python [default]",
   "language": "python",
   "name": "python3"
  },
  "language_info": {
   "codemirror_mode": {
    "name": "ipython",
    "version": 3
   },
   "file_extension": ".py",
   "mimetype": "text/x-python",
   "name": "python",
   "nbconvert_exporter": "python",
   "pygments_lexer": "ipython3",
   "version": "3.5.2"
  }
 },
 "nbformat": 4,
 "nbformat_minor": 2
}
